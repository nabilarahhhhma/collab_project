{
  "nbformat": 4,
  "nbformat_minor": 0,
  "metadata": {
    "colab": {
      "provenance": [],
      "authorship_tag": "ABX9TyMbEMafgp5dWEp/WLEjSqzW",
      "include_colab_link": true
    },
    "kernelspec": {
      "name": "python3",
      "display_name": "Python 3"
    },
    "language_info": {
      "name": "python"
    }
  },
  "cells": [
    {
      "cell_type": "markdown",
      "metadata": {
        "id": "view-in-github",
        "colab_type": "text"
      },
      "source": [
        "<a href=\"https://colab.research.google.com/github/nabilarahhhhma/collab_project/blob/main/polymorphism.ipynb\" target=\"_parent\"><img src=\"https://colab.research.google.com/assets/colab-badge.svg\" alt=\"Open In Colab\"/></a>"
      ]
    },
    {
      "cell_type": "markdown",
      "source": [
        "polymorphisme\n"
      ],
      "metadata": {
        "id": "BvjuPmquX-fC"
      }
    },
    {
      "cell_type": "code",
      "execution_count": null,
      "metadata": {
        "id": "xjjAcGkTWBEw"
      },
      "outputs": [],
      "source": [
        "class Hewan:\n",
        "  def __init__(self,nama):\n",
        "    self.nama=nama\n",
        "\n",
        "  def suara(self):\n",
        "    return \"hewan bersuara\""
      ]
    },
    {
      "cell_type": "code",
      "source": [
        "class Anjing(Hewan):\n",
        "  def suara(self):\n",
        "    return \"guk..guk..\"\n",
        "\n",
        "class Kucing(Hewan):\n",
        "  def suara(self):\n",
        "    return \"meoonggg\"\n",
        "\n",
        "class Sapi(Hewan):\n",
        "  def suara(self):\n",
        "    return \"mohhhh\""
      ],
      "metadata": {
        "id": "dzZj_qRtWCQb"
      },
      "execution_count": null,
      "outputs": []
    },
    {
      "cell_type": "code",
      "source": [
        "anjing=Anjing(\"nana\")\n",
        "kucing=Kucing(\"puspus\")\n",
        "sapi=Sapi(\"moo\")"
      ],
      "metadata": {
        "id": "5Gfl4P3nW4Rv"
      },
      "execution_count": null,
      "outputs": []
    },
    {
      "cell_type": "markdown",
      "source": [
        "Duck Typing\n"
      ],
      "metadata": {
        "id": "UG0ZqCAlYKtW"
      }
    },
    {
      "cell_type": "code",
      "source": [
        "class Mobil:\n",
        "  def start(self):\n",
        "    return \"mesin mobil menyala\"\n",
        "class Motor:\n",
        "  def start(self):\n",
        "    return \"mesin motor menyala\"\n",
        "class Perahu:\n",
        "  def start(self):\n",
        "    return \"mesin perahu menyala\""
      ],
      "metadata": {
        "id": "90FpWttSYRAs"
      },
      "execution_count": null,
      "outputs": []
    },
    {
      "cell_type": "code",
      "source": [
        "class Mobil:\n",
        "  def start(self):\n",
        "    return \"mesin mobil menyala\"\n",
        "class Motor:\n",
        "  def start(self):\n",
        "    return \"mesin motor menyala\"\n",
        "class Perahu:\n",
        "  def start(self):\n",
        "    return \"mesin perahu menyala\"\n",
        "\n",
        "def  tekan_tombol_start(kendaraan):\n",
        "  print(kendaraan.start())\n",
        "\n",
        "daftar_kendaraan=[Perahu(),Motor(),Mobil()]\n",
        "for kendaraan in daftar_kendaraan:\n",
        "  tekan_tombol_start(kendaraan)"
      ],
      "metadata": {
        "colab": {
          "base_uri": "https://localhost:8080/"
        },
        "id": "aPCF93OaYkwA",
        "outputId": "624a70cd-750f-4b98-a5d2-f02ba7bcfa41"
      },
      "execution_count": null,
      "outputs": [
        {
          "output_type": "stream",
          "name": "stdout",
          "text": [
            "mesin perahu menyala\n",
            "mesin motor menyala\n",
            "mesin mobil menyala\n"
          ]
        }
      ]
    },
    {
      "cell_type": "markdown",
      "source": [
        "overloading"
      ],
      "metadata": {
        "id": "G_mqYgIGaSKG"
      }
    },
    {
      "cell_type": "code",
      "source": [
        "class Apple:\n",
        "  def __init__(self, jumlah):\n",
        "    self.jumlah = jumlah\n",
        "\n",
        "  def __add__(self, other):\n",
        "    return Apple(self.jumlah + other.jumlah)\n",
        "\n",
        "  def __str__(self):\n",
        "    return f\"Apple: {self.jumlah}\"\n",
        "\n",
        "\n",
        "apple1 = Apple(5)\n",
        "apple2 = Apple(3)\n",
        "apple3 = apple1 + apple2\n",
        "print(apple3)"
      ],
      "metadata": {
        "colab": {
          "base_uri": "https://localhost:8080/"
        },
        "id": "e4b3B_tCabZf",
        "outputId": "bb0ec6a5-ccdc-498a-a1f5-19128b950bef"
      },
      "execution_count": null,
      "outputs": [
        {
          "output_type": "stream",
          "name": "stdout",
          "text": [
            "Apple: 8\n"
          ]
        }
      ]
    },
    {
      "cell_type": "markdown",
      "source": [
        "Abstract Base Class"
      ],
      "metadata": {
        "id": "JLaCildKbeQi"
      }
    },
    {
      "cell_type": "code",
      "source": [
        "from ast import Pass\n",
        "from abc import ABC, abstractmethod\n",
        "import math\n",
        "\n",
        "class Shape(ABC):\n",
        "\n",
        "  @abstractmethod\n",
        "  def area(self):\n",
        "    Pass\n",
        "\n",
        "class Rectangle(Shape):\n",
        "  def __init__(self, length, width):\n",
        "    self.length = length\n",
        "    self.width = width\n",
        "\n",
        "  def area(self):\n",
        "    return self.length * self.width\n",
        "\n",
        "class Circle(Shape):\n",
        "  def __init__(self, radius):\n",
        "    self.radius = radius\n",
        "\n",
        "  def area(self):\n",
        "    return math.pi * self.radius ** 2\n",
        "\n",
        "shape = [\n",
        "    Rectangle(5, 3),\n",
        "    Circle(2)\n",
        "\n",
        "]\n",
        "for s in shape:\n",
        "  print(f\"Area is {s.area()}\")"
      ],
      "metadata": {
        "colab": {
          "base_uri": "https://localhost:8080/"
        },
        "id": "gkPdYuxmbmAY",
        "outputId": "0b49fab2-42cc-454d-fb52-e1452a9ccd4e"
      },
      "execution_count": null,
      "outputs": [
        {
          "output_type": "stream",
          "name": "stdout",
          "text": [
            "Area is 15\n",
            "Area is 12.566370614359172\n"
          ]
        }
      ]
    },
    {
      "cell_type": "code",
      "source": [],
      "metadata": {
        "id": "ub2vX8vtbki0"
      },
      "execution_count": null,
      "outputs": []
    }
  ]
}